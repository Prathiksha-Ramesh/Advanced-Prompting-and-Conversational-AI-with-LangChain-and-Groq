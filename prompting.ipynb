{
 "cells": [
  {
   "cell_type": "code",
   "execution_count": 1,
   "metadata": {},
   "outputs": [],
   "source": [
    "NEO4J_URI='neo4j+s://955cd91b.databases.neo4j.io'\n",
    "NEO4J_USERNAME='neo4j'\n",
    "NEO4J_PASSWORD='WygIPlQMGaBqzxGa4lwgYoMueAt6gEbe0ZWTbY3NCds'"
   ]
  },
  {
   "cell_type": "code",
   "execution_count": 2,
   "metadata": {},
   "outputs": [],
   "source": [
    "import os\n",
    "os.environ['NEO4J_URI']=NEO4J_URI\n",
    "os.environ['NEO4J_USERNAME']=NEO4J_USERNAME\n",
    "os.environ['NEO4J_PASSWORD']=NEO4J_PASSWORD"
   ]
  },
  {
   "cell_type": "code",
   "execution_count": 3,
   "metadata": {},
   "outputs": [
    {
     "data": {
      "text/plain": [
       "ChatGroq(client=<groq.resources.chat.completions.Completions object at 0x0000023B356C9520>, async_client=<groq.resources.chat.completions.AsyncCompletions object at 0x0000023B356CA030>, model_name='Gemma2-9b-It', groq_api_key=SecretStr('**********'))"
      ]
     },
     "execution_count": 3,
     "metadata": {},
     "output_type": "execute_result"
    }
   ],
   "source": [
    "import os\n",
    "from dotenv import load_dotenv\n",
    "load_dotenv()\n",
    "\n",
    "groq_api=os.getenv('GROQ_API_KEY')\n",
    "from langchain_groq import ChatGroq\n",
    "llm=ChatGroq(groq_api_key=groq_api,model_name='Gemma2-9b-It')\n",
    "llm"
   ]
  },
  {
   "cell_type": "code",
   "execution_count": 4,
   "metadata": {},
   "outputs": [],
   "source": [
    "moview_query=\"\"\"\n",
    "LOAD CSV WITH HEADERS FROM\n",
    "'https://raw.githubusercontent.com/tomasonjo/blog-datasets/main/movies/movies_small.csv' as row\n",
    "MERGE(m:Movie{id:row.movieId})\n",
    "SET m.released=date(row.released),\n",
    "    m.title=row.title,\n",
    "    m.imdbRating=toFloat(row.imdbRating)\n",
    "FOREACH (director in split(row.director,'|')|\n",
    "    MERGE (p:Person{name:trim(director)})\n",
    "    MERGE(p)-[:DIRECTED]->(m))\n",
    "FOREACH(actor in split(row.actors,'|') |\n",
    "    MERGE(p:Person {name:trim(actor)})\n",
    "    MERGE(p)-[:ACTED_IN]->(m))\n",
    "FOREACH(genre in split(row.genes,'|')|\n",
    "    MERGE(g:Genre {name:trim(genre)})\n",
    "    MERGE(m)-[:IN_GENRE]->(g))\n",
    "\"\"\"\n"
   ]
  },
  {
   "cell_type": "code",
   "execution_count": 5,
   "metadata": {},
   "outputs": [
    {
     "data": {
      "text/plain": [
       "[]"
      ]
     },
     "execution_count": 5,
     "metadata": {},
     "output_type": "execute_result"
    }
   ],
   "source": [
    "from langchain_community.graphs import Neo4jGraph\n",
    "graph=Neo4jGraph(url=NEO4J_URI,username=NEO4J_USERNAME,password=NEO4J_PASSWORD)\n",
    "graph.query(moview_query)"
   ]
  },
  {
   "cell_type": "code",
   "execution_count": 6,
   "metadata": {},
   "outputs": [
    {
     "data": {
      "text/plain": [
       "GraphCypherQAChain(verbose=True, graph=<langchain_community.graphs.neo4j_graph.Neo4jGraph object at 0x0000023B3D141520>, cypher_generation_chain=LLMChain(prompt=PromptTemplate(input_variables=['question', 'schema'], template='Task:Generate Cypher statement to query a graph database.\\nInstructions:\\nUse only the provided relationship types and properties in the schema.\\nDo not use any other relationship types or properties that are not provided.\\nSchema:\\n{schema}\\nNote: Do not include any explanations or apologies in your responses.\\nDo not respond to any questions that might ask anything else than for you to construct a Cypher statement.\\nDo not include any text except the generated Cypher statement.\\n\\nThe question is:\\n{question}'), llm=ChatGroq(client=<groq.resources.chat.completions.Completions object at 0x0000023B356C9520>, async_client=<groq.resources.chat.completions.AsyncCompletions object at 0x0000023B356CA030>, model_name='Gemma2-9b-It', groq_api_key=SecretStr('**********'))), qa_chain=LLMChain(prompt=PromptTemplate(input_variables=['context', 'question'], template=\"You are an assistant that helps to form nice and human understandable answers.\\nThe information part contains the provided information that you must use to construct an answer.\\nThe provided information is authoritative, you must never doubt it or try to use your internal knowledge to correct it.\\nMake the answer sound as a response to the question. Do not mention that you based the result on the given information.\\nHere is an example:\\n\\nQuestion: Which managers own Neo4j stocks?\\nContext:[manager:CTL LLC, manager:JANE STREET GROUP LLC]\\nHelpful Answer: CTL LLC, JANE STREET GROUP LLC owns Neo4j stocks.\\n\\nFollow this example when generating answers.\\nIf the provided information is empty, say that you don't know the answer.\\nInformation:\\n{context}\\n\\nQuestion: {question}\\nHelpful Answer:\"), llm=ChatGroq(client=<groq.resources.chat.completions.Completions object at 0x0000023B356C9520>, async_client=<groq.resources.chat.completions.AsyncCompletions object at 0x0000023B356CA030>, model_name='Gemma2-9b-It', groq_api_key=SecretStr('**********'))), graph_schema='Node properties are the following:\\nCEO {YOB: INTEGER, NAME: STRING},Company {name: STRING},enterpreneur {YOB: INTEGER, name: STRING, POB: STRING},country {name: STRING},Person {name: STRING, born: INTEGER},Movie {title: STRING, released: INTEGER, id: STRING, imdbRating: FLOAT}\\nRelationship properties are the following:\\n\\nThe relationships are the following:\\n(:Person)-[:DIRECTED]->(:Movie),(:Person)-[:ACTED_IN]->(:Movie)')"
      ]
     },
     "execution_count": 6,
     "metadata": {},
     "output_type": "execute_result"
    }
   ],
   "source": [
    "from langchain.chains import GraphCypherQAChain\n",
    "chain=GraphCypherQAChain.from_llm(graph=graph,llm=llm,exclude_types=['Genre'],verbose=True)\n",
    "chain"
   ]
  },
  {
   "cell_type": "code",
   "execution_count": 8,
   "metadata": {},
   "outputs": [
    {
     "data": {
      "text/plain": [
       "'Node properties are the following:\\nCEO {YOB: INTEGER, NAME: STRING},Company {name: STRING},enterpreneur {YOB: INTEGER, name: STRING, POB: STRING},country {name: STRING},Person {name: STRING, born: INTEGER},Movie {title: STRING, released: INTEGER, id: STRING, imdbRating: FLOAT}\\nRelationship properties are the following:\\n\\nThe relationships are the following:\\n(:Person)-[:DIRECTED]->(:Movie),(:Person)-[:ACTED_IN]->(:Movie)'"
      ]
     },
     "execution_count": 8,
     "metadata": {},
     "output_type": "execute_result"
    }
   ],
   "source": [
    "chain.graph_schema"
   ]
  },
  {
   "cell_type": "code",
   "execution_count": 9,
   "metadata": {},
   "outputs": [],
   "source": [
    "examples = [\n",
    "    {\n",
    "        'question': 'How many artists are there?',\n",
    "        'query': 'MATCH (a:Person)-[ACTED_IN]->(:Movie) RETURN count(DISTINCT a)',\n",
    "    },\n",
    "    {\n",
    "        'question': 'Which actors played in the movie Casino?',\n",
    "        'query': 'MATCH(m:Movie {title:\"Casino\"})<-[:ACTED_IN]-(a) RETURN a.name',\n",
    "    },\n",
    "    {\n",
    "        'question': 'How many movies has Tom Hanks acted in?',\n",
    "        'query': 'MATCH(a:Person {name:\"Tom Hanks\"})-[:ACTED_IN]->(m:Movie) RETURN count(m)',\n",
    "    },\n",
    "    {\n",
    "        'question': 'What are the names of all movies directed by Steven Spielberg?',\n",
    "        'query': 'MATCH (d:Person {name:\"Steven Spielberg\"})-[:DIRECTED]->(m:Movie) RETURN m.title',\n",
    "    },\n",
    "    {\n",
    "        'question': 'Which movies were released in 1995?',\n",
    "        'query': 'MATCH (m:Movie {year:1995}) RETURN m.title',\n",
    "    },\n",
    "    {\n",
    "        'question': 'How many directors have directed more than 5 movies?',\n",
    "        'query': 'MATCH (d:Person)-[:DIRECTED]->(m:Movie) WITH d, count(m) as movies WHERE movies > 5 RETURN count(d)',\n",
    "    },\n",
    "    {\n",
    "        'question': 'Which actors have acted in both dramas and comedies?',\n",
    "        'query': 'MATCH (a:Person)-[:ACTED_IN]->(m1:Movie {genre:\"Drama\"}), (a)-[:ACTED_IN]->(m2:Movie {genre:\"Comedy\"}) RETURN DISTINCT a.name',\n",
    "    }\n",
    "]\n",
    "\n"
   ]
  },
  {
   "cell_type": "code",
   "execution_count": 13,
   "metadata": {},
   "outputs": [
    {
     "name": "stdout",
     "output_type": "stream",
     "text": [
      "\n",
      "\n",
      "\u001b[1m> Entering new GraphCypherQAChain chain...\u001b[0m\n",
      "Generated Cypher:\n",
      "\u001b[32;1m\u001b[1;3mMATCH (p:Person) RETURN count(p)\u001b[0m\n",
      "Full Context:\n",
      "\u001b[32;1m\u001b[1;3m[{'count(p)': 1241}]\u001b[0m\n",
      "\n",
      "\u001b[1m> Finished chain.\u001b[0m\n"
     ]
    },
    {
     "data": {
      "text/plain": [
       "{'query': 'How many artists are there', 'result': 'There are 1241 artists. \\n'}"
      ]
     },
     "execution_count": 13,
     "metadata": {},
     "output_type": "execute_result"
    }
   ],
   "source": [
    "response=chain.invoke({'query':'How many artists are there'})\n",
    "response"
   ]
  },
  {
   "cell_type": "code",
   "execution_count": 23,
   "metadata": {},
   "outputs": [],
   "source": [
    "from langchain_core.prompts import FewShotPromptTemplate,PromptTemplate\n",
    "example_prompt=PromptTemplate.from_template(\n",
    "    'User Input:{question}\\n Cypher query:{query}'\n",
    ")\n",
    "\n",
    "prompt=FewShotPromptTemplate(\n",
    "    examples=examples[:5],\n",
    "    example_prompt=example_prompt,\n",
    "    prefix='You are a neo4j expert.Given an input question,create a syntactically very accurate cypher queries',\n",
    "    suffix='User input:{question}\\n Cypher query:',\n",
    "    input_variables=['question','schema']\n",
    ")"
   ]
  },
  {
   "cell_type": "code",
   "execution_count": 24,
   "metadata": {},
   "outputs": [
    {
     "data": {
      "text/plain": [
       "FewShotPromptTemplate(input_variables=['question'], examples=[{'question': 'How many artists are there?', 'query': 'MATCH (a:Person)-[ACTED_IN]->(:Movie) RETURN count(DISTINCT a)'}, {'question': 'Which actors played in the movie Casino?', 'query': 'MATCH(m:Movie {title:\"Casino\"})<-[:ACTED_IN]-(a) RETURN a.name'}, {'question': 'How many movies has Tom Hanks acted in?', 'query': 'MATCH(a:Person {name:\"Tom Hanks\"})-[:ACTED_IN]->(m:Movie) RETURN count(m)'}, {'question': 'What are the names of all movies directed by Steven Spielberg?', 'query': 'MATCH (d:Person {name:\"Steven Spielberg\"})-[:DIRECTED]->(m:Movie) RETURN m.title'}, {'question': 'Which movies were released in 1995?', 'query': 'MATCH (m:Movie {year:1995}) RETURN m.title'}], example_prompt=PromptTemplate(input_variables=['query', 'question'], template='User Input:{question}\\n Cypher query:{query}'), suffix='User input:{question}\\n Cypher query:', prefix='You are a neo4j expert.Given an input question,create a syntactically very accurate cypher queries')"
      ]
     },
     "execution_count": 24,
     "metadata": {},
     "output_type": "execute_result"
    }
   ],
   "source": [
    "prompt"
   ]
  },
  {
   "cell_type": "code",
   "execution_count": 27,
   "metadata": {},
   "outputs": [],
   "source": [
    "# print(prompt.format(question='How many artists are there?',schema='foo'))"
   ]
  },
  {
   "cell_type": "code",
   "execution_count": 26,
   "metadata": {},
   "outputs": [],
   "source": [
    "llm\n",
    "chain=GraphCypherQAChain.from_llm(graph=graph,llm=llm,cypher_prompt=prompt,verbose=True)"
   ]
  },
  {
   "cell_type": "code",
   "execution_count": null,
   "metadata": {},
   "outputs": [],
   "source": []
  },
  {
   "cell_type": "code",
   "execution_count": null,
   "metadata": {},
   "outputs": [],
   "source": []
  }
 ],
 "metadata": {
  "kernelspec": {
   "display_name": "Python 3",
   "language": "python",
   "name": "python3"
  },
  "language_info": {
   "codemirror_mode": {
    "name": "ipython",
    "version": 3
   },
   "file_extension": ".py",
   "mimetype": "text/x-python",
   "name": "python",
   "nbconvert_exporter": "python",
   "pygments_lexer": "ipython3",
   "version": "3.12.0"
  }
 },
 "nbformat": 4,
 "nbformat_minor": 2
}
